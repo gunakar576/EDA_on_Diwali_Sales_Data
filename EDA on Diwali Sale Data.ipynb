{
 "cells": [
  {
   "cell_type": "markdown",
   "id": "a3426bb3-9ac3-47ff-9363-fbd053e069e5",
   "metadata": {},
   "source": [
    "# Library Import"
   ]
  },
  {
   "cell_type": "code",
   "execution_count": 228,
   "id": "b07a2c15-daf9-42a1-b5b1-203c2bf87e18",
   "metadata": {},
   "outputs": [],
   "source": [
    "# 1. Import Libraries\n",
    "import pandas as pd\n",
    "import numpy as np\n",
    "import matplotlib.pyplot as plt\n",
    "import seaborn as sns"
   ]
  },
  {
   "cell_type": "markdown",
   "id": "a46bbb87-b6ca-49ef-b940-56f6053a708d",
   "metadata": {},
   "source": [
    "# Data  Loading"
   ]
  },
  {
   "cell_type": "code",
   "execution_count": 231,
   "id": "13be9270-f3a5-4021-8a32-aa6b2d31a201",
   "metadata": {},
   "outputs": [],
   "source": [
    "# 2. Load Dataset\n",
    "df = pd.read_csv(\"Diwali_Sales_Data.csv\",encoding=\"latin1\")"
   ]
  },
  {
   "cell_type": "code",
   "execution_count": 233,
   "id": "c18d1248-dbc8-4d30-994b-88a2f625e11f",
   "metadata": {},
   "outputs": [
    {
     "data": {
      "text/plain": [
       "(11251, 15)"
      ]
     },
     "execution_count": 233,
     "metadata": {},
     "output_type": "execute_result"
    }
   ],
   "source": [
    "df.shape"
   ]
  },
  {
   "cell_type": "markdown",
   "id": "3a4cd623-0ec1-4952-a12f-126c3634da85",
   "metadata": {},
   "source": [
    "# Data Inspection"
   ]
  },
  {
   "cell_type": "code",
   "execution_count": 236,
   "id": "ceb1d363-ecbd-44a7-8927-be397a2e3e99",
   "metadata": {},
   "outputs": [
    {
     "data": {
      "text/html": [
       "<div>\n",
       "<style scoped>\n",
       "    .dataframe tbody tr th:only-of-type {\n",
       "        vertical-align: middle;\n",
       "    }\n",
       "\n",
       "    .dataframe tbody tr th {\n",
       "        vertical-align: top;\n",
       "    }\n",
       "\n",
       "    .dataframe thead th {\n",
       "        text-align: right;\n",
       "    }\n",
       "</style>\n",
       "<table border=\"1\" class=\"dataframe\">\n",
       "  <thead>\n",
       "    <tr style=\"text-align: right;\">\n",
       "      <th></th>\n",
       "      <th>User_ID</th>\n",
       "      <th>Cust_name</th>\n",
       "      <th>Product_ID</th>\n",
       "      <th>Gender</th>\n",
       "      <th>Age Group</th>\n",
       "      <th>Age</th>\n",
       "      <th>Marital_Status</th>\n",
       "      <th>State</th>\n",
       "      <th>Zone</th>\n",
       "      <th>Occupation</th>\n",
       "      <th>Product_Category</th>\n",
       "      <th>Orders</th>\n",
       "      <th>Amount</th>\n",
       "      <th>Status</th>\n",
       "      <th>unnamed1</th>\n",
       "    </tr>\n",
       "  </thead>\n",
       "  <tbody>\n",
       "    <tr>\n",
       "      <th>0</th>\n",
       "      <td>1002903</td>\n",
       "      <td>Sanskriti</td>\n",
       "      <td>P00125942</td>\n",
       "      <td>F</td>\n",
       "      <td>26-35</td>\n",
       "      <td>28</td>\n",
       "      <td>0</td>\n",
       "      <td>Maharashtra</td>\n",
       "      <td>Western</td>\n",
       "      <td>Healthcare</td>\n",
       "      <td>Auto</td>\n",
       "      <td>1</td>\n",
       "      <td>23952.0</td>\n",
       "      <td>NaN</td>\n",
       "      <td>NaN</td>\n",
       "    </tr>\n",
       "    <tr>\n",
       "      <th>1</th>\n",
       "      <td>1000732</td>\n",
       "      <td>Kartik</td>\n",
       "      <td>P00110942</td>\n",
       "      <td>F</td>\n",
       "      <td>26-35</td>\n",
       "      <td>35</td>\n",
       "      <td>1</td>\n",
       "      <td>Andhra Pradesh</td>\n",
       "      <td>Southern</td>\n",
       "      <td>Govt</td>\n",
       "      <td>Auto</td>\n",
       "      <td>3</td>\n",
       "      <td>23934.0</td>\n",
       "      <td>NaN</td>\n",
       "      <td>NaN</td>\n",
       "    </tr>\n",
       "    <tr>\n",
       "      <th>2</th>\n",
       "      <td>1001990</td>\n",
       "      <td>Bindu</td>\n",
       "      <td>P00118542</td>\n",
       "      <td>F</td>\n",
       "      <td>26-35</td>\n",
       "      <td>35</td>\n",
       "      <td>1</td>\n",
       "      <td>Uttar Pradesh</td>\n",
       "      <td>Central</td>\n",
       "      <td>Automobile</td>\n",
       "      <td>Auto</td>\n",
       "      <td>3</td>\n",
       "      <td>23924.0</td>\n",
       "      <td>NaN</td>\n",
       "      <td>NaN</td>\n",
       "    </tr>\n",
       "    <tr>\n",
       "      <th>3</th>\n",
       "      <td>1001425</td>\n",
       "      <td>Sudevi</td>\n",
       "      <td>P00237842</td>\n",
       "      <td>M</td>\n",
       "      <td>0-17</td>\n",
       "      <td>16</td>\n",
       "      <td>0</td>\n",
       "      <td>Karnataka</td>\n",
       "      <td>Southern</td>\n",
       "      <td>Construction</td>\n",
       "      <td>Auto</td>\n",
       "      <td>2</td>\n",
       "      <td>23912.0</td>\n",
       "      <td>NaN</td>\n",
       "      <td>NaN</td>\n",
       "    </tr>\n",
       "    <tr>\n",
       "      <th>4</th>\n",
       "      <td>1000588</td>\n",
       "      <td>Joni</td>\n",
       "      <td>P00057942</td>\n",
       "      <td>M</td>\n",
       "      <td>26-35</td>\n",
       "      <td>28</td>\n",
       "      <td>1</td>\n",
       "      <td>Gujarat</td>\n",
       "      <td>Western</td>\n",
       "      <td>Food Processing</td>\n",
       "      <td>Auto</td>\n",
       "      <td>2</td>\n",
       "      <td>23877.0</td>\n",
       "      <td>NaN</td>\n",
       "      <td>NaN</td>\n",
       "    </tr>\n",
       "  </tbody>\n",
       "</table>\n",
       "</div>"
      ],
      "text/plain": [
       "   User_ID  Cust_name Product_ID Gender Age Group  Age  Marital_Status  \\\n",
       "0  1002903  Sanskriti  P00125942      F     26-35   28               0   \n",
       "1  1000732     Kartik  P00110942      F     26-35   35               1   \n",
       "2  1001990      Bindu  P00118542      F     26-35   35               1   \n",
       "3  1001425     Sudevi  P00237842      M      0-17   16               0   \n",
       "4  1000588       Joni  P00057942      M     26-35   28               1   \n",
       "\n",
       "            State      Zone       Occupation Product_Category  Orders  \\\n",
       "0     Maharashtra   Western       Healthcare             Auto       1   \n",
       "1  Andhra Pradesh  Southern             Govt             Auto       3   \n",
       "2   Uttar Pradesh   Central       Automobile             Auto       3   \n",
       "3       Karnataka  Southern     Construction             Auto       2   \n",
       "4         Gujarat   Western  Food Processing             Auto       2   \n",
       "\n",
       "    Amount  Status  unnamed1  \n",
       "0  23952.0     NaN       NaN  \n",
       "1  23934.0     NaN       NaN  \n",
       "2  23924.0     NaN       NaN  \n",
       "3  23912.0     NaN       NaN  \n",
       "4  23877.0     NaN       NaN  "
      ]
     },
     "execution_count": 236,
     "metadata": {},
     "output_type": "execute_result"
    }
   ],
   "source": [
    "df.head()"
   ]
  },
  {
   "cell_type": "code",
   "execution_count": 238,
   "id": "a3db2f19-b62b-44e2-acaa-55c933386140",
   "metadata": {},
   "outputs": [
    {
     "data": {
      "text/html": [
       "<div>\n",
       "<style scoped>\n",
       "    .dataframe tbody tr th:only-of-type {\n",
       "        vertical-align: middle;\n",
       "    }\n",
       "\n",
       "    .dataframe tbody tr th {\n",
       "        vertical-align: top;\n",
       "    }\n",
       "\n",
       "    .dataframe thead th {\n",
       "        text-align: right;\n",
       "    }\n",
       "</style>\n",
       "<table border=\"1\" class=\"dataframe\">\n",
       "  <thead>\n",
       "    <tr style=\"text-align: right;\">\n",
       "      <th></th>\n",
       "      <th>User_ID</th>\n",
       "      <th>Cust_name</th>\n",
       "      <th>Product_ID</th>\n",
       "      <th>Gender</th>\n",
       "      <th>Age Group</th>\n",
       "      <th>Age</th>\n",
       "      <th>Marital_Status</th>\n",
       "      <th>State</th>\n",
       "      <th>Zone</th>\n",
       "      <th>Occupation</th>\n",
       "      <th>Product_Category</th>\n",
       "      <th>Orders</th>\n",
       "      <th>Amount</th>\n",
       "      <th>Status</th>\n",
       "      <th>unnamed1</th>\n",
       "    </tr>\n",
       "  </thead>\n",
       "  <tbody>\n",
       "    <tr>\n",
       "      <th>11246</th>\n",
       "      <td>1000695</td>\n",
       "      <td>Manning</td>\n",
       "      <td>P00296942</td>\n",
       "      <td>M</td>\n",
       "      <td>18-25</td>\n",
       "      <td>19</td>\n",
       "      <td>1</td>\n",
       "      <td>Maharashtra</td>\n",
       "      <td>Western</td>\n",
       "      <td>Chemical</td>\n",
       "      <td>Office</td>\n",
       "      <td>4</td>\n",
       "      <td>370.0</td>\n",
       "      <td>NaN</td>\n",
       "      <td>NaN</td>\n",
       "    </tr>\n",
       "    <tr>\n",
       "      <th>11247</th>\n",
       "      <td>1004089</td>\n",
       "      <td>Reichenbach</td>\n",
       "      <td>P00171342</td>\n",
       "      <td>M</td>\n",
       "      <td>26-35</td>\n",
       "      <td>33</td>\n",
       "      <td>0</td>\n",
       "      <td>Haryana</td>\n",
       "      <td>Northern</td>\n",
       "      <td>Healthcare</td>\n",
       "      <td>Veterinary</td>\n",
       "      <td>3</td>\n",
       "      <td>367.0</td>\n",
       "      <td>NaN</td>\n",
       "      <td>NaN</td>\n",
       "    </tr>\n",
       "    <tr>\n",
       "      <th>11248</th>\n",
       "      <td>1001209</td>\n",
       "      <td>Oshin</td>\n",
       "      <td>P00201342</td>\n",
       "      <td>F</td>\n",
       "      <td>36-45</td>\n",
       "      <td>40</td>\n",
       "      <td>0</td>\n",
       "      <td>Madhya Pradesh</td>\n",
       "      <td>Central</td>\n",
       "      <td>Textile</td>\n",
       "      <td>Office</td>\n",
       "      <td>4</td>\n",
       "      <td>213.0</td>\n",
       "      <td>NaN</td>\n",
       "      <td>NaN</td>\n",
       "    </tr>\n",
       "    <tr>\n",
       "      <th>11249</th>\n",
       "      <td>1004023</td>\n",
       "      <td>Noonan</td>\n",
       "      <td>P00059442</td>\n",
       "      <td>M</td>\n",
       "      <td>36-45</td>\n",
       "      <td>37</td>\n",
       "      <td>0</td>\n",
       "      <td>Karnataka</td>\n",
       "      <td>Southern</td>\n",
       "      <td>Agriculture</td>\n",
       "      <td>Office</td>\n",
       "      <td>3</td>\n",
       "      <td>206.0</td>\n",
       "      <td>NaN</td>\n",
       "      <td>NaN</td>\n",
       "    </tr>\n",
       "    <tr>\n",
       "      <th>11250</th>\n",
       "      <td>1002744</td>\n",
       "      <td>Brumley</td>\n",
       "      <td>P00281742</td>\n",
       "      <td>F</td>\n",
       "      <td>18-25</td>\n",
       "      <td>19</td>\n",
       "      <td>0</td>\n",
       "      <td>Maharashtra</td>\n",
       "      <td>Western</td>\n",
       "      <td>Healthcare</td>\n",
       "      <td>Office</td>\n",
       "      <td>3</td>\n",
       "      <td>188.0</td>\n",
       "      <td>NaN</td>\n",
       "      <td>NaN</td>\n",
       "    </tr>\n",
       "  </tbody>\n",
       "</table>\n",
       "</div>"
      ],
      "text/plain": [
       "       User_ID    Cust_name Product_ID Gender Age Group  Age  Marital_Status  \\\n",
       "11246  1000695      Manning  P00296942      M     18-25   19               1   \n",
       "11247  1004089  Reichenbach  P00171342      M     26-35   33               0   \n",
       "11248  1001209        Oshin  P00201342      F     36-45   40               0   \n",
       "11249  1004023       Noonan  P00059442      M     36-45   37               0   \n",
       "11250  1002744      Brumley  P00281742      F     18-25   19               0   \n",
       "\n",
       "                State      Zone   Occupation Product_Category  Orders  Amount  \\\n",
       "11246     Maharashtra   Western     Chemical           Office       4   370.0   \n",
       "11247         Haryana  Northern   Healthcare       Veterinary       3   367.0   \n",
       "11248  Madhya Pradesh   Central      Textile           Office       4   213.0   \n",
       "11249       Karnataka  Southern  Agriculture           Office       3   206.0   \n",
       "11250     Maharashtra   Western   Healthcare           Office       3   188.0   \n",
       "\n",
       "       Status  unnamed1  \n",
       "11246     NaN       NaN  \n",
       "11247     NaN       NaN  \n",
       "11248     NaN       NaN  \n",
       "11249     NaN       NaN  \n",
       "11250     NaN       NaN  "
      ]
     },
     "execution_count": 238,
     "metadata": {},
     "output_type": "execute_result"
    }
   ],
   "source": [
    "df.tail()"
   ]
  },
  {
   "cell_type": "code",
   "execution_count": 240,
   "id": "c00033bb-a789-4df0-8acb-1cc85bcfb09b",
   "metadata": {},
   "outputs": [
    {
     "name": "stdout",
     "output_type": "stream",
     "text": [
      "<class 'pandas.core.frame.DataFrame'>\n",
      "RangeIndex: 11251 entries, 0 to 11250\n",
      "Data columns (total 15 columns):\n",
      " #   Column            Non-Null Count  Dtype  \n",
      "---  ------            --------------  -----  \n",
      " 0   User_ID           11251 non-null  int64  \n",
      " 1   Cust_name         11251 non-null  object \n",
      " 2   Product_ID        11251 non-null  object \n",
      " 3   Gender            11251 non-null  object \n",
      " 4   Age Group         11251 non-null  object \n",
      " 5   Age               11251 non-null  int64  \n",
      " 6   Marital_Status    11251 non-null  int64  \n",
      " 7   State             11251 non-null  object \n",
      " 8   Zone              11251 non-null  object \n",
      " 9   Occupation        11251 non-null  object \n",
      " 10  Product_Category  11251 non-null  object \n",
      " 11  Orders            11251 non-null  int64  \n",
      " 12  Amount            11239 non-null  float64\n",
      " 13  Status            0 non-null      float64\n",
      " 14  unnamed1          0 non-null      float64\n",
      "dtypes: float64(3), int64(4), object(8)\n",
      "memory usage: 1.3+ MB\n"
     ]
    }
   ],
   "source": [
    "df.info()"
   ]
  },
  {
   "cell_type": "code",
   "execution_count": 242,
   "id": "b5521429-4ef8-4ef6-bc63-d795fb6bfa3d",
   "metadata": {},
   "outputs": [
    {
     "data": {
      "text/html": [
       "<div>\n",
       "<style scoped>\n",
       "    .dataframe tbody tr th:only-of-type {\n",
       "        vertical-align: middle;\n",
       "    }\n",
       "\n",
       "    .dataframe tbody tr th {\n",
       "        vertical-align: top;\n",
       "    }\n",
       "\n",
       "    .dataframe thead th {\n",
       "        text-align: right;\n",
       "    }\n",
       "</style>\n",
       "<table border=\"1\" class=\"dataframe\">\n",
       "  <thead>\n",
       "    <tr style=\"text-align: right;\">\n",
       "      <th></th>\n",
       "      <th>User_ID</th>\n",
       "      <th>Age</th>\n",
       "      <th>Marital_Status</th>\n",
       "      <th>Orders</th>\n",
       "      <th>Amount</th>\n",
       "      <th>Status</th>\n",
       "      <th>unnamed1</th>\n",
       "    </tr>\n",
       "  </thead>\n",
       "  <tbody>\n",
       "    <tr>\n",
       "      <th>count</th>\n",
       "      <td>1.125100e+04</td>\n",
       "      <td>11251.000000</td>\n",
       "      <td>11251.000000</td>\n",
       "      <td>11251.000000</td>\n",
       "      <td>11239.000000</td>\n",
       "      <td>0.0</td>\n",
       "      <td>0.0</td>\n",
       "    </tr>\n",
       "    <tr>\n",
       "      <th>mean</th>\n",
       "      <td>1.003004e+06</td>\n",
       "      <td>35.421207</td>\n",
       "      <td>0.420318</td>\n",
       "      <td>2.489290</td>\n",
       "      <td>9453.610858</td>\n",
       "      <td>NaN</td>\n",
       "      <td>NaN</td>\n",
       "    </tr>\n",
       "    <tr>\n",
       "      <th>std</th>\n",
       "      <td>1.716125e+03</td>\n",
       "      <td>12.754122</td>\n",
       "      <td>0.493632</td>\n",
       "      <td>1.115047</td>\n",
       "      <td>5222.355869</td>\n",
       "      <td>NaN</td>\n",
       "      <td>NaN</td>\n",
       "    </tr>\n",
       "    <tr>\n",
       "      <th>min</th>\n",
       "      <td>1.000001e+06</td>\n",
       "      <td>12.000000</td>\n",
       "      <td>0.000000</td>\n",
       "      <td>1.000000</td>\n",
       "      <td>188.000000</td>\n",
       "      <td>NaN</td>\n",
       "      <td>NaN</td>\n",
       "    </tr>\n",
       "    <tr>\n",
       "      <th>25%</th>\n",
       "      <td>1.001492e+06</td>\n",
       "      <td>27.000000</td>\n",
       "      <td>0.000000</td>\n",
       "      <td>1.500000</td>\n",
       "      <td>5443.000000</td>\n",
       "      <td>NaN</td>\n",
       "      <td>NaN</td>\n",
       "    </tr>\n",
       "    <tr>\n",
       "      <th>50%</th>\n",
       "      <td>1.003065e+06</td>\n",
       "      <td>33.000000</td>\n",
       "      <td>0.000000</td>\n",
       "      <td>2.000000</td>\n",
       "      <td>8109.000000</td>\n",
       "      <td>NaN</td>\n",
       "      <td>NaN</td>\n",
       "    </tr>\n",
       "    <tr>\n",
       "      <th>75%</th>\n",
       "      <td>1.004430e+06</td>\n",
       "      <td>43.000000</td>\n",
       "      <td>1.000000</td>\n",
       "      <td>3.000000</td>\n",
       "      <td>12675.000000</td>\n",
       "      <td>NaN</td>\n",
       "      <td>NaN</td>\n",
       "    </tr>\n",
       "    <tr>\n",
       "      <th>max</th>\n",
       "      <td>1.006040e+06</td>\n",
       "      <td>92.000000</td>\n",
       "      <td>1.000000</td>\n",
       "      <td>4.000000</td>\n",
       "      <td>23952.000000</td>\n",
       "      <td>NaN</td>\n",
       "      <td>NaN</td>\n",
       "    </tr>\n",
       "  </tbody>\n",
       "</table>\n",
       "</div>"
      ],
      "text/plain": [
       "            User_ID           Age  Marital_Status        Orders        Amount  \\\n",
       "count  1.125100e+04  11251.000000    11251.000000  11251.000000  11239.000000   \n",
       "mean   1.003004e+06     35.421207        0.420318      2.489290   9453.610858   \n",
       "std    1.716125e+03     12.754122        0.493632      1.115047   5222.355869   \n",
       "min    1.000001e+06     12.000000        0.000000      1.000000    188.000000   \n",
       "25%    1.001492e+06     27.000000        0.000000      1.500000   5443.000000   \n",
       "50%    1.003065e+06     33.000000        0.000000      2.000000   8109.000000   \n",
       "75%    1.004430e+06     43.000000        1.000000      3.000000  12675.000000   \n",
       "max    1.006040e+06     92.000000        1.000000      4.000000  23952.000000   \n",
       "\n",
       "       Status  unnamed1  \n",
       "count     0.0       0.0  \n",
       "mean      NaN       NaN  \n",
       "std       NaN       NaN  \n",
       "min       NaN       NaN  \n",
       "25%       NaN       NaN  \n",
       "50%       NaN       NaN  \n",
       "75%       NaN       NaN  \n",
       "max       NaN       NaN  "
      ]
     },
     "execution_count": 242,
     "metadata": {},
     "output_type": "execute_result"
    }
   ],
   "source": [
    "df.describe()"
   ]
  },
  {
   "cell_type": "code",
   "execution_count": 244,
   "id": "4822394e-aed5-4eb5-8936-59499c6919bb",
   "metadata": {},
   "outputs": [
    {
     "data": {
      "text/plain": [
       "User_ID                 0\n",
       "Cust_name               0\n",
       "Product_ID              0\n",
       "Gender                  0\n",
       "Age Group               0\n",
       "Age                     0\n",
       "Marital_Status          0\n",
       "State                   0\n",
       "Zone                    0\n",
       "Occupation              0\n",
       "Product_Category        0\n",
       "Orders                  0\n",
       "Amount                 12\n",
       "Status              11251\n",
       "unnamed1            11251\n",
       "dtype: int64"
      ]
     },
     "execution_count": 244,
     "metadata": {},
     "output_type": "execute_result"
    }
   ],
   "source": [
    "df.isnull().sum()"
   ]
  },
  {
   "cell_type": "code",
   "execution_count": 246,
   "id": "def0ab20-a28c-4ef8-a121-fadc96751970",
   "metadata": {},
   "outputs": [
    {
     "data": {
      "text/plain": [
       "8"
      ]
     },
     "execution_count": 246,
     "metadata": {},
     "output_type": "execute_result"
    }
   ],
   "source": [
    "df.duplicated().sum()"
   ]
  },
  {
   "cell_type": "markdown",
   "id": "2980bf41-bf83-459b-b47a-76b61f26460a",
   "metadata": {},
   "source": [
    "# Data Cleaning"
   ]
  },
  {
   "cell_type": "code",
   "execution_count": 249,
   "id": "99a24f40-7800-4fa8-83f9-385bb8548780",
   "metadata": {},
   "outputs": [
    {
     "data": {
      "text/html": [
       "<div>\n",
       "<style scoped>\n",
       "    .dataframe tbody tr th:only-of-type {\n",
       "        vertical-align: middle;\n",
       "    }\n",
       "\n",
       "    .dataframe tbody tr th {\n",
       "        vertical-align: top;\n",
       "    }\n",
       "\n",
       "    .dataframe thead th {\n",
       "        text-align: right;\n",
       "    }\n",
       "</style>\n",
       "<table border=\"1\" class=\"dataframe\">\n",
       "  <thead>\n",
       "    <tr style=\"text-align: right;\">\n",
       "      <th></th>\n",
       "      <th>User_ID</th>\n",
       "      <th>Cust_name</th>\n",
       "      <th>Product_ID</th>\n",
       "      <th>Gender</th>\n",
       "      <th>Age Group</th>\n",
       "      <th>Age</th>\n",
       "      <th>Marital_Status</th>\n",
       "      <th>State</th>\n",
       "      <th>Zone</th>\n",
       "      <th>Occupation</th>\n",
       "      <th>Product_Category</th>\n",
       "      <th>Orders</th>\n",
       "      <th>Amount</th>\n",
       "    </tr>\n",
       "  </thead>\n",
       "  <tbody>\n",
       "    <tr>\n",
       "      <th>0</th>\n",
       "      <td>1002903</td>\n",
       "      <td>Sanskriti</td>\n",
       "      <td>P00125942</td>\n",
       "      <td>F</td>\n",
       "      <td>26-35</td>\n",
       "      <td>28</td>\n",
       "      <td>0</td>\n",
       "      <td>Maharashtra</td>\n",
       "      <td>Western</td>\n",
       "      <td>Healthcare</td>\n",
       "      <td>Auto</td>\n",
       "      <td>1</td>\n",
       "      <td>23952.0</td>\n",
       "    </tr>\n",
       "    <tr>\n",
       "      <th>1</th>\n",
       "      <td>1000732</td>\n",
       "      <td>Kartik</td>\n",
       "      <td>P00110942</td>\n",
       "      <td>F</td>\n",
       "      <td>26-35</td>\n",
       "      <td>35</td>\n",
       "      <td>1</td>\n",
       "      <td>Andhra Pradesh</td>\n",
       "      <td>Southern</td>\n",
       "      <td>Govt</td>\n",
       "      <td>Auto</td>\n",
       "      <td>3</td>\n",
       "      <td>23934.0</td>\n",
       "    </tr>\n",
       "    <tr>\n",
       "      <th>2</th>\n",
       "      <td>1001990</td>\n",
       "      <td>Bindu</td>\n",
       "      <td>P00118542</td>\n",
       "      <td>F</td>\n",
       "      <td>26-35</td>\n",
       "      <td>35</td>\n",
       "      <td>1</td>\n",
       "      <td>Uttar Pradesh</td>\n",
       "      <td>Central</td>\n",
       "      <td>Automobile</td>\n",
       "      <td>Auto</td>\n",
       "      <td>3</td>\n",
       "      <td>23924.0</td>\n",
       "    </tr>\n",
       "  </tbody>\n",
       "</table>\n",
       "</div>"
      ],
      "text/plain": [
       "   User_ID  Cust_name Product_ID Gender Age Group  Age  Marital_Status  \\\n",
       "0  1002903  Sanskriti  P00125942      F     26-35   28               0   \n",
       "1  1000732     Kartik  P00110942      F     26-35   35               1   \n",
       "2  1001990      Bindu  P00118542      F     26-35   35               1   \n",
       "\n",
       "            State      Zone  Occupation Product_Category  Orders   Amount  \n",
       "0     Maharashtra   Western  Healthcare             Auto       1  23952.0  \n",
       "1  Andhra Pradesh  Southern        Govt             Auto       3  23934.0  \n",
       "2   Uttar Pradesh   Central  Automobile             Auto       3  23924.0  "
      ]
     },
     "execution_count": 249,
     "metadata": {},
     "output_type": "execute_result"
    }
   ],
   "source": [
    "# Drop useless columns\n",
    "df.drop(columns=['Status', 'unnamed1'], inplace=True)\n",
    "df.head(3)"
   ]
  },
  {
   "cell_type": "code",
   "execution_count": 251,
   "id": "2f4eaa88-f640-4411-ae90-e4e1bf5f29e0",
   "metadata": {},
   "outputs": [],
   "source": [
    "df['Amount'] = df['Amount'].fillna(df['Amount'].median())"
   ]
  },
  {
   "cell_type": "code",
   "execution_count": 253,
   "id": "9b3d5a64-f1e0-4a49-9c84-59f0543ef927",
   "metadata": {},
   "outputs": [
    {
     "data": {
      "text/plain": [
       "User_ID             0\n",
       "Cust_name           0\n",
       "Product_ID          0\n",
       "Gender              0\n",
       "Age Group           0\n",
       "Age                 0\n",
       "Marital_Status      0\n",
       "State               0\n",
       "Zone                0\n",
       "Occupation          0\n",
       "Product_Category    0\n",
       "Orders              0\n",
       "Amount              0\n",
       "dtype: int64"
      ]
     },
     "execution_count": 253,
     "metadata": {},
     "output_type": "execute_result"
    }
   ],
   "source": [
    "df.isnull().sum()"
   ]
  },
  {
   "cell_type": "code",
   "execution_count": 257,
   "id": "53820e56-c658-42d9-9907-4e64cac31217",
   "metadata": {},
   "outputs": [],
   "source": [
    "df.drop_duplicates(inplace=True)"
   ]
  },
  {
   "cell_type": "code",
   "execution_count": 259,
   "id": "586aed8e-f695-41a7-8b9a-9fadc70effe3",
   "metadata": {},
   "outputs": [
    {
     "data": {
      "text/plain": [
       "0"
      ]
     },
     "execution_count": 259,
     "metadata": {},
     "output_type": "execute_result"
    }
   ],
   "source": [
    "df.duplicated().sum()"
   ]
  },
  {
   "cell_type": "markdown",
   "id": "bd0bda3a-2efc-410a-9e5a-4168267f2fc7",
   "metadata": {},
   "source": [
    "# Univariate EDA Steps"
   ]
  },
  {
   "cell_type": "markdown",
   "id": "8da3ae8a-c781-4b4a-bbd9-51fc26ed3118",
   "metadata": {},
   "source": [
    "### What is the distribution of customers based on Gender, and which gender forms the majority of buyers ? "
   ]
  },
  {
   "cell_type": "code",
   "execution_count": 268,
   "id": "c40ca66e-906a-4a6a-99dc-2532893ef20b",
   "metadata": {},
   "outputs": [
    {
     "name": "stdout",
     "output_type": "stream",
     "text": [
      "Gender\n",
      "F    7838\n",
      "M    3405\n",
      "Name: count, dtype: int64\n"
     ]
    }
   ],
   "source": [
    "print(df['Gender'].value_counts())"
   ]
  },
  {
   "cell_type": "code",
   "execution_count": 270,
   "id": "a369d86e-431f-48d7-ad0b-0605dfceb6bb",
   "metadata": {},
   "outputs": [
    {
     "data": {
      "image/png": "[encoded data removed]",
      "text/plain": [
       "<Figure size 640x480 with 1 Axes>"
      ]
     },
     "metadata": {},
     "output_type": "display_data"
    }
   ],
   "source": [
    "sns.countplot(x=\"Gender\", data=df)\n",
    "plt.title(\"Gender Distribution of Customers\")\n",
    "plt.show()"
   ]
  },
  {
   "cell_type": "markdown",
   "id": "affbbe5c-ddcf-4b99-84b7-52e6b02a6463",
   "metadata": {},
   "source": [
    "### What is the distribution of customers across different Age Groups, and which age group contributes the most buyers?"
   ]
  },
  {
   "cell_type": "code",
   "execution_count": 22,
   "id": "674836ed-cb47-44e3-b715-f9d7720b8255",
   "metadata": {},
   "outputs": [
    {
     "name": "stdout",
     "output_type": "stream",
     "text": [
      "Age Group\n",
      "26-35    4538\n",
      "36-45    2285\n",
      "18-25    1878\n",
      "46-50     987\n",
      "51-55     831\n",
      "55+       428\n",
      "0-17      296\n",
      "Name: count, dtype: int64\n"
     ]
    }
   ],
   "source": [
    "print(df['Age Group'].value_counts())"
   ]
  },
  {
   "cell_type": "code",
   "execution_count": 272,
   "id": "0c5f8915-341d-4e84-977d-515382905b29",
   "metadata": {},
   "outputs": [
    {
     "data": {
      "image/png": "[encoded data removed]",
      "text/plain": [
       "<Figure size 640x480 with 1 Axes>"
      ]
     },
     "metadata": {},
     "output_type": "display_data"
    }
   ],
   "source": [
    "sns.countplot(x=\"Age Group\", data=df, order=df[\"Age Group\"].value_counts().index)\n",
    "plt.title(\"Age Group Distribution\")\n",
    "plt.show()"
   ]
  },
  {
   "cell_type": "markdown",
   "id": "74bdb3a9-991c-4434-ada2-e4504746b7a6",
   "metadata": {},
   "source": [
    "#### Which states have the highest number of customers ?"
   ]
  },
  {
   "cell_type": "code",
   "execution_count": 25,
   "id": "08a529c2-8bec-4705-ae98-ffb239da95c9",
   "metadata": {},
   "outputs": [
    {
     "name": "stdout",
     "output_type": "stream",
     "text": [
      "State\n",
      "Uttar Pradesh       1944\n",
      "Maharashtra         1523\n",
      "Karnataka           1305\n",
      "Delhi               1107\n",
      "Madhya Pradesh       923\n",
      "Andhra Pradesh       812\n",
      "Himachal Pradesh     608\n",
      "Kerala               453\n",
      "Haryana              451\n",
      "Bihar                433\n",
      "Gujarat              428\n",
      "Jharkhand            380\n",
      "Uttarakhand          320\n",
      "Rajasthan            231\n",
      "Punjab               200\n",
      "Telangana            125\n",
      "Name: count, dtype: int64\n"
     ]
    }
   ],
   "source": [
    "print(df['State'].value_counts())"
   ]
  },
  {
   "cell_type": "code",
   "execution_count": 274,
   "id": "3086191e-aa0d-4c68-a04b-a0fab734558e",
   "metadata": {},
   "outputs": [
    {
     "data": {
      "image/png": "[encoded data removed]",
      "text/plain": [
       "<Figure size 1000x500 with 1 Axes>"
      ]
     },
     "metadata": {},
     "output_type": "display_data"
    }
   ],
   "source": [
    "df['State'].value_counts().head(10).plot(kind='bar', figsize=(10,5))\n",
    "plt.title(\"Top 10 States by Customer Count\")\n",
    "plt.show()"
   ]
  },
  {
   "cell_type": "markdown",
   "id": "e85bc26c-d771-4742-aa8c-33fd8754cc0a",
   "metadata": {},
   "source": [
    "### What is the distribution of customers across different Occupations, and which occupation group dominates the customer base?"
   ]
  },
  {
   "cell_type": "code",
   "execution_count": 28,
   "id": "5104a55d-e37c-4c3c-ab8e-a852512374ab",
   "metadata": {},
   "outputs": [
    {
     "name": "stdout",
     "output_type": "stream",
     "text": [
      "Occupation\n",
      "IT Sector          1586\n",
      "Healthcare         1408\n",
      "Aviation           1309\n",
      "Banking            1139\n",
      "Govt                854\n",
      "Hospitality         702\n",
      "Media               637\n",
      "Automobile          566\n",
      "Chemical            542\n",
      "Lawyer              531\n",
      "Retail              501\n",
      "Food Processing     423\n",
      "Construction        413\n",
      "Textile             350\n",
      "Agriculture         282\n",
      "Name: count, dtype: int64\n"
     ]
    }
   ],
   "source": [
    "print(df['Occupation'].value_counts())"
   ]
  },
  {
   "cell_type": "code",
   "execution_count": 276,
   "id": "45d5789b-3868-410c-8656-6f87b4d5d34e",
   "metadata": {},
   "outputs": [
    {
     "data": {
      "image/png": "[encoded data removed]",
      "text/plain": [
       "<Figure size 1000x500 with 1 Axes>"
      ]
     },
     "metadata": {},
     "output_type": "display_data"
    }
   ],
   "source": [
    "df['Occupation'].value_counts().head(10).plot(kind='bar', figsize=(10,5))\n",
    "plt.title(\"Customer Occupations\")\n",
    "plt.show()"
   ]
  },
  {
   "cell_type": "code",
   "execution_count": 30,
   "id": "915119d4-2c85-407c-aac5-87e24ba0605f",
   "metadata": {},
   "outputs": [
    {
     "data": {
      "image/png": "[encoded data removed]",
      "text/plain": [
       "<Figure size 640x480 with 1 Axes>"
      ]
     },
     "metadata": {},
     "output_type": "display_data"
    }
   ],
   "source": [
    "# Amount Distribution\n",
    "sns.histplot(df['Amount'], bins=30, kde=True)\n",
    "plt.title(\"Purchase Amount Distribution\")\n",
    "plt.show()"
   ]
  },
  {
   "cell_type": "markdown",
   "id": "9fbc0d9c-abf4-4484-b2e1-03b1c60f951f",
   "metadata": {},
   "source": [
    "#### Who are the top 10 customers by total purchase amount?"
   ]
  },
  {
   "cell_type": "markdown",
   "id": "afde2c22-6575-4c19-bafe-fdff673b071a",
   "metadata": {},
   "source": [
    " # Bivariate Analysis"
   ]
  },
  {
   "cell_type": "code",
   "execution_count": 35,
   "id": "56d14c39-e41c-4ffd-89fd-9fbf79caa471",
   "metadata": {},
   "outputs": [
    {
     "data": {
      "text/html": [
       "<div>\n",
       "<style scoped>\n",
       "    .dataframe tbody tr th:only-of-type {\n",
       "        vertical-align: middle;\n",
       "    }\n",
       "\n",
       "    .dataframe tbody tr th {\n",
       "        vertical-align: top;\n",
       "    }\n",
       "\n",
       "    .dataframe thead th {\n",
       "        text-align: right;\n",
       "    }\n",
       "</style>\n",
       "<table border=\"1\" class=\"dataframe\">\n",
       "  <thead>\n",
       "    <tr style=\"text-align: right;\">\n",
       "      <th></th>\n",
       "      <th>User_ID</th>\n",
       "      <th>Cust_name</th>\n",
       "      <th>Product_ID</th>\n",
       "      <th>Gender</th>\n",
       "      <th>Age Group</th>\n",
       "      <th>Age</th>\n",
       "      <th>Marital_Status</th>\n",
       "      <th>State</th>\n",
       "      <th>Zone</th>\n",
       "      <th>Occupation</th>\n",
       "      <th>Product_Category</th>\n",
       "      <th>Orders</th>\n",
       "      <th>Amount</th>\n",
       "    </tr>\n",
       "  </thead>\n",
       "  <tbody>\n",
       "    <tr>\n",
       "      <th>0</th>\n",
       "      <td>1002903</td>\n",
       "      <td>Sanskriti</td>\n",
       "      <td>P00125942</td>\n",
       "      <td>F</td>\n",
       "      <td>26-35</td>\n",
       "      <td>28</td>\n",
       "      <td>0</td>\n",
       "      <td>Maharashtra</td>\n",
       "      <td>Western</td>\n",
       "      <td>Healthcare</td>\n",
       "      <td>Auto</td>\n",
       "      <td>1</td>\n",
       "      <td>23952.0</td>\n",
       "    </tr>\n",
       "    <tr>\n",
       "      <th>1</th>\n",
       "      <td>1000732</td>\n",
       "      <td>Kartik</td>\n",
       "      <td>P00110942</td>\n",
       "      <td>F</td>\n",
       "      <td>26-35</td>\n",
       "      <td>35</td>\n",
       "      <td>1</td>\n",
       "      <td>Andhra Pradesh</td>\n",
       "      <td>Southern</td>\n",
       "      <td>Govt</td>\n",
       "      <td>Auto</td>\n",
       "      <td>3</td>\n",
       "      <td>23934.0</td>\n",
       "    </tr>\n",
       "    <tr>\n",
       "      <th>2</th>\n",
       "      <td>1001990</td>\n",
       "      <td>Bindu</td>\n",
       "      <td>P00118542</td>\n",
       "      <td>F</td>\n",
       "      <td>26-35</td>\n",
       "      <td>35</td>\n",
       "      <td>1</td>\n",
       "      <td>Uttar Pradesh</td>\n",
       "      <td>Central</td>\n",
       "      <td>Automobile</td>\n",
       "      <td>Auto</td>\n",
       "      <td>3</td>\n",
       "      <td>23924.0</td>\n",
       "    </tr>\n",
       "    <tr>\n",
       "      <th>3</th>\n",
       "      <td>1001425</td>\n",
       "      <td>Sudevi</td>\n",
       "      <td>P00237842</td>\n",
       "      <td>M</td>\n",
       "      <td>0-17</td>\n",
       "      <td>16</td>\n",
       "      <td>0</td>\n",
       "      <td>Karnataka</td>\n",
       "      <td>Southern</td>\n",
       "      <td>Construction</td>\n",
       "      <td>Auto</td>\n",
       "      <td>2</td>\n",
       "      <td>23912.0</td>\n",
       "    </tr>\n",
       "    <tr>\n",
       "      <th>4</th>\n",
       "      <td>1000588</td>\n",
       "      <td>Joni</td>\n",
       "      <td>P00057942</td>\n",
       "      <td>M</td>\n",
       "      <td>26-35</td>\n",
       "      <td>28</td>\n",
       "      <td>1</td>\n",
       "      <td>Gujarat</td>\n",
       "      <td>Western</td>\n",
       "      <td>Food Processing</td>\n",
       "      <td>Auto</td>\n",
       "      <td>2</td>\n",
       "      <td>23877.0</td>\n",
       "    </tr>\n",
       "  </tbody>\n",
       "</table>\n",
       "</div>"
      ],
      "text/plain": [
       "   User_ID  Cust_name Product_ID Gender Age Group  Age  Marital_Status  \\\n",
       "0  1002903  Sanskriti  P00125942      F     26-35   28               0   \n",
       "1  1000732     Kartik  P00110942      F     26-35   35               1   \n",
       "2  1001990      Bindu  P00118542      F     26-35   35               1   \n",
       "3  1001425     Sudevi  P00237842      M      0-17   16               0   \n",
       "4  1000588       Joni  P00057942      M     26-35   28               1   \n",
       "\n",
       "            State      Zone       Occupation Product_Category  Orders   Amount  \n",
       "0     Maharashtra   Western       Healthcare             Auto       1  23952.0  \n",
       "1  Andhra Pradesh  Southern             Govt             Auto       3  23934.0  \n",
       "2   Uttar Pradesh   Central       Automobile             Auto       3  23924.0  \n",
       "3       Karnataka  Southern     Construction             Auto       2  23912.0  \n",
       "4         Gujarat   Western  Food Processing             Auto       2  23877.0  "
      ]
     },
     "execution_count": 35,
     "metadata": {},
     "output_type": "execute_result"
    }
   ],
   "source": [
    "df.head()"
   ]
  },
  {
   "cell_type": "markdown",
   "id": "4058d56e-9d3c-47aa-b219-4acd22ada1b4",
   "metadata": {},
   "source": [
    "# gender"
   ]
  },
  {
   "cell_type": "markdown",
   "id": "a7eaa759-a7ba-43b1-bd3d-1f4c4e9c8639",
   "metadata": {},
   "source": [
    "#### Which product categories are purchased the most by male and female customers, and what are the top 5 categories based on purchase frequency?"
   ]
  },
  {
   "cell_type": "code",
   "execution_count": 52,
   "id": "9cf07f28-0c22-4960-8352-411cb468a62e",
   "metadata": {},
   "outputs": [
    {
     "name": "stdout",
     "output_type": "stream",
     "text": [
      "\n",
      "Top 5 Product Categories by Gender:\n",
      "Gender                    F    M\n",
      "Product_Category                \n",
      "Clothing & Apparel     1854  799\n",
      "Food                   1774  719\n",
      "Electronics & Gadgets  1472  610\n",
      "Footwear & Shoes        786  278\n",
      "Household items         284  236\n"
     ]
    }
   ],
   "source": [
    "counts = df[['Product_Category', 'Gender']].value_counts().unstack(fill_value=0)\n",
    "\n",
    "print(\"\\nTop 5 Product Categories by Gender:\")\n",
    "print(counts.sort_values(by=['M','F'], ascending=False).head(5))\n"
   ]
  },
  {
   "cell_type": "markdown",
   "id": "5b4282f0-2046-4a80-a9e8-a23ccfd2ff1f",
   "metadata": {},
   "source": [
    "### insight"
   ]
  },
  {
   "cell_type": "markdown",
   "id": "a656be82-f448-4ad2-b5bb-ba71cd864179",
   "metadata": {},
   "source": [
    "#### Clothing and Apparel and Food  products category are  mostly purchased  by Female and Male .Female customers dominate purchases across all top 5 categories, especially in Clothing & Apparel and Food, making them the key buyers. Male purchases are comparatively lower but closer in Household items."
   ]
  },
  {
   "cell_type": "markdown",
   "id": "98e16319-11e3-4193-afc5-5afc47643668",
   "metadata": {},
   "source": [
    "#### Which gender contributes more in terms of orders and total purchase amount?"
   ]
  },
  {
   "cell_type": "code",
   "execution_count": 58,
   "id": "c50ea91e-26ab-41ca-ae03-1cdcd57e9b60",
   "metadata": {},
   "outputs": [
    {
     "data": {
      "text/plain": [
       "Gender\n",
       "F    19554\n",
       "M     8427\n",
       "Name: Orders, dtype: int64"
      ]
     },
     "execution_count": 58,
     "metadata": {},
     "output_type": "execute_result"
    }
   ],
   "source": [
    "df.groupby('Gender')['Orders'].sum()"
   ]
  },
  {
   "cell_type": "code",
   "execution_count": 60,
   "id": "156cbbf8-c999-41b1-a54a-77886083a7d7",
   "metadata": {},
   "outputs": [
    {
     "data": {
      "text/plain": [
       "Gender\n",
       "F    74388772.43\n",
       "M    31887364.00\n",
       "Name: Amount, dtype: float64"
      ]
     },
     "execution_count": 60,
     "metadata": {},
     "output_type": "execute_result"
    }
   ],
   "source": [
    "df.groupby('Gender')['Amount'].sum().head(5)"
   ]
  },
  {
   "cell_type": "markdown",
   "id": "2c9ea2b2-3c6e-4ef5-842b-fe9e744ab51a",
   "metadata": {},
   "source": [
    "### Insight"
   ]
  },
  {
   "cell_type": "markdown",
   "id": "35fc6469-b379-415a-873c-f9529d2db804",
   "metadata": {},
   "source": [
    "#### Female customers not only placed more orders but also contributed a significantly higher purchase amount compared to male customers.\n",
    "#### This indicates that female buyers are the dominant customer segment in this dataset, both in terms of volume (orders) and value (amount)."
   ]
  },
  {
   "cell_type": "markdown",
   "id": "b7d35409-ff10-4f8d-93af-9a532e6689a2",
   "metadata": {},
   "source": [
    "# age_group"
   ]
  },
  {
   "cell_type": "markdown",
   "id": "f14d673a-25cf-4ccd-9f77-6bc28b3fae1f",
   "metadata": {},
   "source": [
    "### How do different Age Groups compare in terms of product category preferences, total orders, total purchase amount, and average purchase amount?"
   ]
  },
  {
   "cell_type": "code",
   "execution_count": 68,
   "id": "ff49f648-ee3a-4726-bf93-e983a28001ca",
   "metadata": {},
   "outputs": [
    {
     "name": "stdout",
     "output_type": "stream",
     "text": [
      "\n",
      "Count of Product Categories by Age Group:\n",
      "Age Group  Product_Category     \n",
      "26-35      Clothing & Apparel       1056\n",
      "           Food                      992\n",
      "           Electronics & Gadgets     828\n",
      "36-45      Clothing & Apparel        532\n",
      "18-25      Food                      478\n",
      "Name: count, dtype: int64\n"
     ]
    }
   ],
   "source": [
    "counts = df[['Age Group', 'Product_Category']].value_counts().head()\n",
    "print(\"\\nCount of Product Categories by Age Group:\")\n",
    "print(counts)"
   ]
  },
  {
   "cell_type": "code",
   "execution_count": 70,
   "id": "2c5a2bde-7b54-46d5-942d-dc5acaf21a66",
   "metadata": {},
   "outputs": [
    {
     "name": "stdout",
     "output_type": "stream",
     "text": [
      "\n",
      "Total Orders by Age Group:\n",
      "Age Group\n",
      "26-35    11381\n",
      "36-45     5693\n",
      "18-25     4646\n",
      "46-50     2379\n",
      "51-55     2115\n",
      "55+       1077\n",
      "0-17       690\n",
      "Name: Orders, dtype: int64\n"
     ]
    }
   ],
   "source": [
    "print(\"\\nTotal Orders by Age Group:\")\n",
    "print(df.groupby('Age Group')['Orders'].sum().sort_values(ascending=False))"
   ]
  },
  {
   "cell_type": "code",
   "execution_count": 71,
   "id": "86dad740-89a9-4ebd-bca4-4a84eed35ecf",
   "metadata": {},
   "outputs": [
    {
     "name": "stdout",
     "output_type": "stream",
     "text": [
      "\n",
      "Total Amount by Age Group:\n",
      "Age Group\n",
      "26-35    42597986.94\n",
      "36-45    22159463.49\n",
      "18-25    17235530.00\n",
      "46-50     9240280.00\n",
      "51-55     8254127.00\n",
      "55+       4089096.00\n",
      "0-17      2699653.00\n",
      "Name: Amount, dtype: float64\n"
     ]
    }
   ],
   "source": [
    "print(\"\\nTotal Amount by Age Group:\")\n",
    "print(df.groupby('Age Group')['Amount'].sum().sort_values(ascending=False))"
   ]
  },
  {
   "cell_type": "code",
   "execution_count": 72,
   "id": "2543dc30-9b0b-4c7d-a28e-6f1d53cdc038",
   "metadata": {},
   "outputs": [
    {
     "name": "stdout",
     "output_type": "stream",
     "text": [
      "\n",
      "Average Amount by Age Group:\n",
      "Age Group\n",
      "51-55    9932.764140\n",
      "36-45    9697.795838\n",
      "55+      9553.962617\n",
      "26-35    9386.951728\n",
      "46-50    9361.985816\n",
      "18-25    9177.598509\n",
      "0-17     9120.449324\n",
      "Name: Amount, dtype: float64\n"
     ]
    }
   ],
   "source": [
    "print(\"\\nAverage Amount by Age Group:\")\n",
    "print(df.groupby('Age Group')['Amount'].mean().sort_values(ascending=False))\n"
   ]
  },
  {
   "cell_type": "markdown",
   "id": "e3f67ad6-2e99-4ea0-9e45-ad143b233fcb",
   "metadata": {},
   "source": [
    "### Insights on Age Groups"
   ]
  },
  {
   "cell_type": "markdown",
   "id": "1533ec89-17f1-428e-8428-7a3b2328a54a",
   "metadata": {},
   "source": [
    "#### Product Category Preference: Clothing & Apparel and Food are the most purchased categories, especially among the 26–35 and 36–45 age groups.\n",
    "\n",
    "#### Total Orders: The 26–35 age group placed the maximum number of orders (11,381), making them the most active buyers.\n",
    "\n",
    "#### Total Purchase Amount: The 26–35 age group also contributed the highest total revenue (₹42,59,4899.0 approx).\n",
    "\n",
    "#### Average purchase amount is highest for the 51-55 age group (₹9.9k),  followed by 36-45 (₹9.6k) and 55+ (₹9.5k)."
   ]
  },
  {
   "cell_type": "markdown",
   "id": "db45a7a1-a3d5-4108-ae22-ea342d5dc3e9",
   "metadata": {},
   "source": [
    "# Marital_status"
   ]
  },
  {
   "cell_type": "markdown",
   "id": "a170242e-8988-4506-aa26-bab7c8869153",
   "metadata": {},
   "source": [
    "### How do married vs unmarried customers differ in terms of product category preference, total orders, and total purchase amount?"
   ]
  },
  {
   "cell_type": "code",
   "execution_count": 81,
   "id": "9d88ebce-7081-40b7-b512-1ae0e609b0b0",
   "metadata": {},
   "outputs": [
    {
     "name": "stdout",
     "output_type": "stream",
     "text": [
      "\n",
      "Count of Product Categories by Marital Status:\n",
      "Marital_Status  Product_Category     \n",
      "0               Clothing & Apparel       1533\n",
      "                Food                     1501\n",
      "                Electronics & Gadgets    1172\n",
      "1               Clothing & Apparel       1120\n",
      "                Food                      992\n",
      "Name: count, dtype: int64\n"
     ]
    }
   ],
   "source": [
    "print(\"\\nCount of Product Categories by Marital Status:\")\n",
    "# counts = df[['Marital_Status', 'Product_Category']].value_counts().unstack(fill_value=0\n",
    "counts = df[['Marital_Status', 'Product_Category']].value_counts().sort_values(ascending=False).head()\n",
    "print(counts)\n"
   ]
  },
  {
   "cell_type": "code",
   "execution_count": 84,
   "id": "ece61fa3-2955-465a-87d2-04c65e96d334",
   "metadata": {},
   "outputs": [
    {
     "name": "stdout",
     "output_type": "stream",
     "text": [
      "\n",
      "Total Orders by Marital Status:\n",
      "Marital_Status\n",
      "0    16243\n",
      "1    11738\n",
      "Name: Orders, dtype: int64\n"
     ]
    }
   ],
   "source": [
    "print(\"\\nTotal Orders by Marital Status:\")\n",
    "print(df.groupby('Marital_Status')['Orders'].sum().sort_values(ascending=False))\n"
   ]
  },
  {
   "cell_type": "code",
   "execution_count": 86,
   "id": "fe2335bd-1231-44e6-9d51-c801706bbfc5",
   "metadata": {},
   "outputs": [
    {
     "name": "stdout",
     "output_type": "stream",
     "text": [
      "\n",
      "Total Amount Spent by Marital Status:\n",
      "Marital_Status\n",
      "0    62131172.44\n",
      "1    44144963.99\n",
      "Name: Amount, dtype: float64\n"
     ]
    }
   ],
   "source": [
    "print(\"\\nTotal Amount Spent by Marital Status:\")\n",
    "print(df.groupby('Marital_Status')['Amount'].sum().sort_values(ascending=False))\n"
   ]
  },
  {
   "cell_type": "markdown",
   "id": "4317b4a2-21a4-479f-b1c4-32c7116e8a5b",
   "metadata": {},
   "source": [
    "#### insight by Marital_Status"
   ]
  },
  {
   "cell_type": "markdown",
   "id": "3450cac8-d9a0-4094-8cdf-46e18923c449",
   "metadata": {},
   "source": [
    "#### Product Category Preference: Clothing & Apparel and Food are the most purchased categories across both married and unmarried customers.\n",
    "#### Total Orders: Unmarried customers placed the maximum number of orders (16,243), compared to married customers (11,738).\n",
    "#### Total Purchase Amount: Unmarried customers contributed the highest total revenue (₹62M approx), while married customers contributed around ₹44M."
   ]
  },
  {
   "cell_type": "markdown",
   "id": "7be865b5-bdfe-4576-8d0c-66487241280a",
   "metadata": {},
   "source": [
    "# zone"
   ]
  },
  {
   "cell_type": "markdown",
   "id": "2e7f4771-06be-4d99-9910-b325afe09e07",
   "metadata": {},
   "source": [
    "### How do Product Categories, Orders, Revenue (Amount), and Occupations vary across different Zones ?"
   ]
  },
  {
   "cell_type": "code",
   "execution_count": 97,
   "id": "2084dd96-7a1d-4347-b33f-915219692a1f",
   "metadata": {},
   "outputs": [
    {
     "name": "stdout",
     "output_type": "stream",
     "text": [
      "\n",
      "Count of Product Categories by Zone:\n",
      "Zone      Product_Category  \n",
      "Central   Food                  990\n",
      "          Clothing & Apparel    913\n",
      "Western   Food                  582\n",
      "Southern  Clothing & Apparel    578\n",
      "Central   Footwear & Shoes      577\n",
      "Name: count, dtype: int64\n"
     ]
    }
   ],
   "source": [
    "print(\"\\nCount of Product Categories by Zone:\")\n",
    "zone_product = df[['Zone', 'Product_Category']].value_counts().sort_values(ascending=False).head()\n",
    "print(zone_product)\n"
   ]
  },
  {
   "cell_type": "code",
   "execution_count": 99,
   "id": "a5994bfa-edca-4758-95ce-43d9c7120699",
   "metadata": {},
   "outputs": [
    {
     "name": "stdout",
     "output_type": "stream",
     "text": [
      "\n",
      "Total Orders by Zone:\n",
      "Zone\n",
      "Central     10636\n",
      "Southern     6744\n",
      "Western      4866\n",
      "Northern     3724\n",
      "Eastern      2011\n",
      "Name: Orders, dtype: int64\n"
     ]
    }
   ],
   "source": [
    "print(\"\\nTotal Orders by Zone:\")\n",
    "zone_orders = df.groupby('Zone')['Orders'].sum()\n",
    "print(zone_orders.sort_values(ascending=False))\n"
   ]
  },
  {
   "cell_type": "code",
   "execution_count": 101,
   "id": "9d854538-f89e-4c54-acc2-25ef939f95ef",
   "metadata": {},
   "outputs": [
    {
     "name": "stdout",
     "output_type": "stream",
     "text": [
      "\n",
      "Total Amount by Zone:\n",
      "Zone\n",
      "Central     41628723.45\n",
      "Southern    26622886.98\n",
      "Western     18366953.00\n",
      "Northern    12616448.00\n",
      "Eastern      7041125.00\n",
      "Name: Amount, dtype: float64\n"
     ]
    }
   ],
   "source": [
    "print(\"\\nTotal Amount by Zone:\")\n",
    "zone_amount = df.groupby('Zone')['Amount'].sum()\n",
    "print(zone_amount.sort_values(ascending=False))\n"
   ]
  },
  {
   "cell_type": "code",
   "execution_count": 103,
   "id": "c00951aa-e810-437b-99a1-31640d3ae7db",
   "metadata": {},
   "outputs": [
    {
     "data": {
      "image/png": "[encoded data removed]",
      "text/plain": [
       "<Figure size 600x400 with 1 Axes>"
      ]
     },
     "metadata": {},
     "output_type": "display_data"
    }
   ],
   "source": [
    "plt.figure(figsize=(6,4))\n",
    "sns.barplot(x=zone_amount.index, y=zone_amount.values)\n",
    "plt.title(\"Total Amount by Zone\")\n",
    "plt.ylabel(\"Total Amount\")\n",
    "plt.xlabel(\"Zone\")\n",
    "plt.show()"
   ]
  },
  {
   "cell_type": "code",
   "execution_count": 104,
   "id": "a65b10e1-8a7a-4f0c-8d07-b3dda85f4e76",
   "metadata": {},
   "outputs": [
    {
     "name": "stdout",
     "output_type": "stream",
     "text": [
      "\n",
      "Count of Occupations by Zone:\n",
      "Zone      Occupation \n",
      "Central   IT Sector      638\n",
      "          Healthcare     532\n",
      "          Aviation       501\n",
      "          Banking        405\n",
      "Southern  IT Sector      364\n",
      "          Healthcare     344\n",
      "Central   Govt           337\n",
      "Southern  Aviation       320\n",
      "          Banking        284\n",
      "Central   Hospitality    270\n",
      "Name: count, dtype: int64\n"
     ]
    }
   ],
   "source": [
    "print(\"\\nCount of Occupations by Zone:\")\n",
    "zone_occ = df[['Zone', 'Occupation']].value_counts().head(10)\n",
    "print(zone_occ.sort_values(ascending=False))"
   ]
  },
  {
   "cell_type": "markdown",
   "id": "f1e8cfc7-73c1-43c9-8bfb-e3e21383f94c",
   "metadata": {},
   "source": [
    "### insights by zone"
   ]
  },
  {
   "cell_type": "markdown",
   "id": "9e7ccbea-c496-400a-8dc0-9cc80003f013",
   "metadata": {},
   "source": [
    "#### Product Preference: Food and Clothing & Apparel dominate (Central & Western zones).\n",
    "#### Orders: Central leads (10k), followed by Southern (6.7k).\n",
    "#### Revenue: Central highest (₹41.6M), Southern (₹26.6M).\n",
    "#### Occupations: IT, Healthcare, Banking buyers dominate (mostly Central).\n",
    "#### Overall: Central strongest, Eastern weakest."
   ]
  },
  {
   "cell_type": "markdown",
   "id": "30780101-71fa-4971-9423-f00fb6e180fa",
   "metadata": {},
   "source": [
    "# occupation"
   ]
  },
  {
   "cell_type": "markdown",
   "id": "373d29e2-b718-4899-b10a-0edce1a9a6dc",
   "metadata": {},
   "source": [
    "#### How do Product Categories, Total Orders, and Total Revenue vary across different Occupations?"
   ]
  },
  {
   "cell_type": "code",
   "execution_count": 111,
   "id": "b285fe2d-281c-45f9-8a5a-281bfe89cd98",
   "metadata": {},
   "outputs": [
    {
     "name": "stdout",
     "output_type": "stream",
     "text": [
      "\n",
      "Count of Product Categories by Occupation:\n",
      "Occupation  Product_Category     \n",
      "Healthcare  Clothing & Apparel       361\n",
      "IT Sector   Clothing & Apparel       351\n",
      "            Food                     344\n",
      "Healthcare  Food                     330\n",
      "Aviation    Food                     312\n",
      "IT Sector   Electronics & Gadgets    293\n",
      "Aviation    Clothing & Apparel       281\n",
      "Banking     Clothing & Apparel       274\n",
      "            Electronics & Gadgets    252\n",
      "Aviation    Electronics & Gadgets    241\n",
      "Name: count, dtype: int64\n"
     ]
    }
   ],
   "source": [
    "print(\"\\nCount of Product Categories by Occupation:\")\n",
    "occ_product = df[['Occupation', 'Product_Category']].value_counts().head(10)\n",
    "print(occ_product.sort_values(ascending=False))\n"
   ]
  },
  {
   "cell_type": "code",
   "execution_count": 113,
   "id": "9a1dba7d-f3a0-45e3-8fec-ce155adf049e",
   "metadata": {},
   "outputs": [
    {
     "data": {
      "text/plain": [
       "Occupation\n",
       "IT Sector     4002\n",
       "Healthcare    3455\n",
       "Aviation      3212\n",
       "Banking       2819\n",
       "Govt          2155\n",
       "Name: Orders, dtype: int64"
      ]
     },
     "execution_count": 113,
     "metadata": {},
     "output_type": "execute_result"
    }
   ],
   "source": [
    "df.groupby('Occupation')['Orders'].sum().sort_values(ascending=False).head(5)"
   ]
  },
  {
   "cell_type": "code",
   "execution_count": 115,
   "id": "ec0f0cde-8d21-4219-8222-5f17060326aa",
   "metadata": {},
   "outputs": [
    {
     "data": {
      "text/plain": [
       "Occupation\n",
       "IT Sector     14782407.00\n",
       "Healthcare    13034587.49\n",
       "Aviation      12599994.00\n",
       "Banking       10786828.95\n",
       "Govt           8517212.00\n",
       "Name: Amount, dtype: float64"
      ]
     },
     "execution_count": 115,
     "metadata": {},
     "output_type": "execute_result"
    }
   ],
   "source": [
    "df.groupby('Occupation')['Amount'].sum().sort_values(ascending=False).head(5)"
   ]
  },
  {
   "cell_type": "markdown",
   "id": "70e518a5-c1ee-468f-bb2f-7a7d7714db71",
   "metadata": {},
   "source": [
    "### Insights by Occupation"
   ]
  },
  {
   "cell_type": "markdown",
   "id": "66e57f0e-10d1-43e3-aa8d-a08e9e868277",
   "metadata": {},
   "source": [
    "### Product Preference: Clothing & Apparel and Food are most purchased, especially by Healthcare and IT Sector professionals.\n",
    "### Orders: IT Sector placed the maximum orders (4002), followed by Healthcare (3455) and Aviation (3212).\n",
    "### Revenue: IT Sector generated the highest revenue (₹14.7M), followed by Healthcare (₹13.0M) and Aviation (₹12.6M)."
   ]
  },
  {
   "cell_type": "markdown",
   "id": "0790f8f6-92d6-4d20-8239-e99a41b6caf5",
   "metadata": {},
   "source": [
    "# product_id "
   ]
  },
  {
   "cell_type": "markdown",
   "id": "a5c9b64e-de62-4450-b433-4e55e7e036c8",
   "metadata": {},
   "source": [
    "### How do Orders and Revenue vary across different Product IDs  and Which are the top 10 products by revenue"
   ]
  },
  {
   "cell_type": "code",
   "execution_count": 121,
   "id": "725abddb-8f1a-4546-b0be-f25781b414d3",
   "metadata": {},
   "outputs": [
    {
     "name": "stdout",
     "output_type": "stream",
     "text": [
      "\n",
      "Total Orders by Product ID:\n",
      "Product_ID\n",
      "P00000142    57\n",
      "P00000242    15\n",
      "P00000342    16\n",
      "P00000442     1\n",
      "P00000542     6\n",
      "Name: Orders, dtype: int64\n"
     ]
    }
   ],
   "source": [
    "print(\"\\nTotal Orders by Product ID:\")\n",
    "prod_orders = df.groupby('Product_ID')['Orders'].sum().head()\n",
    "print(prod_orders)"
   ]
  },
  {
   "cell_type": "code",
   "execution_count": 123,
   "id": "3eee4bb9-eeaf-4c0f-b929-323e87d67d5f",
   "metadata": {},
   "outputs": [
    {
     "name": "stdout",
     "output_type": "stream",
     "text": [
      "\n",
      "Total Amount by Product ID:\n",
      "Product_ID\n",
      "P00265242    540136.0\n",
      "P00110942    424833.0\n",
      "P00184942    401816.0\n",
      "P00112142    341020.0\n",
      "P00059442    338571.0\n",
      "Name: Amount, dtype: float64\n"
     ]
    }
   ],
   "source": [
    "print(\"\\nTotal Amount by Product ID:\")\n",
    "prod_amount = df.groupby('Product_ID')['Amount'].sum().sort_values(ascending=False).head()\n",
    "print(prod_amount)"
   ]
  },
  {
   "cell_type": "code",
   "execution_count": 125,
   "id": "670d7a16-e3aa-4f43-84a4-8c6b7586a56b",
   "metadata": {},
   "outputs": [
    {
     "name": "stdout",
     "output_type": "stream",
     "text": [
      "Top 10 Products:\n",
      " Product_ID\n",
      "P00265242    540136.0\n",
      "P00110942    424833.0\n",
      "P00184942    401816.0\n",
      "P00112142    341020.0\n",
      "P00059442    338571.0\n",
      "P00237542    322363.0\n",
      "P00058042    307040.0\n",
      "P00110742    294548.0\n",
      "P00110842    290661.0\n",
      "P00080342    283309.0\n",
      "Name: Amount, dtype: float64\n"
     ]
    }
   ],
   "source": [
    "# Top 10 Products by Amount\n",
    "top_products = df.groupby(\"Product_ID\")[\"Amount\"].sum().sort_values(ascending=False).head(10)\n",
    "print(\"Top 10 Products:\\n\", top_products)\n"
   ]
  },
  {
   "cell_type": "code",
   "execution_count": 127,
   "id": "88858e44-4e84-4171-bd7c-bbf60e8cf2ea",
   "metadata": {},
   "outputs": [
    {
     "data": {
      "image/png": "[encoded data removed]",
      "text/plain": [
       "<Figure size 1000x500 with 1 Axes>"
      ]
     },
     "metadata": {},
     "output_type": "display_data"
    }
   ],
   "source": [
    "top_products.plot(kind=\"bar\", figsize=(10,5))\n",
    "plt.title(\"Top 10 Products by Sales Amount\")\n",
    "plt.show()"
   ]
  },
  {
   "cell_type": "markdown",
   "id": "930fcf14-5cdd-4b30-aa0f-4ed12d6181aa",
   "metadata": {},
   "source": [
    "### insight by product_id"
   ]
  },
  {
   "cell_type": "markdown",
   "id": "cdd9aab3-adc3-42c3-af66-b56d706ecea3",
   "metadata": {},
   "source": [
    "### Orders: Product P00000142 leads with 57 orders, followed by P00000242 (15 orders).\n",
    "### Revenue: Product P00265242 also generates the highest revenue (₹540136.0), followed by P00110942 (₹424833.0).\n",
    "### Top Revenue Products: IDs like P00265242, P00119442, P00295442, P00257442 .\n"
   ]
  },
  {
   "cell_type": "markdown",
   "id": "8b553e45-43f2-4dfd-89f9-264b539f8754",
   "metadata": {},
   "source": [
    "# State"
   ]
  },
  {
   "cell_type": "markdown",
   "id": "0df9b7d4-bdb2-47b7-9e2c-c4d6faa24176",
   "metadata": {},
   "source": [
    "### How do Product Category counts, total Orders, and total Amount vary across different States?"
   ]
  },
  {
   "cell_type": "code",
   "execution_count": 133,
   "id": "6844e52e-d1be-4737-aceb-d08f90028a89",
   "metadata": {},
   "outputs": [
    {
     "name": "stdout",
     "output_type": "stream",
     "text": [
      "\n",
      "Count of Product Categories by State:\n",
      "State          Product_Category  \n",
      "Uttar Pradesh  Food                  569\n",
      "               Clothing & Apparel    489\n",
      "Maharashtra    Food                  480\n",
      "Karnataka      Footwear & Shoes      339\n",
      "Delhi          Footwear & Shoes      338\n",
      "Name: count, dtype: int64\n"
     ]
    }
   ],
   "source": [
    "print(\"\\nCount of Product Categories by State:\")\n",
    "counts = df[['State', 'Product_Category']].value_counts().sort_values(ascending=False).head()\n",
    "print(counts)"
   ]
  },
  {
   "cell_type": "code",
   "execution_count": 135,
   "id": "d17fe92d-29eb-4e6a-a6ac-7028f8aa7dfd",
   "metadata": {},
   "outputs": [
    {
     "data": {
      "text/plain": [
       "State\n",
       "Uttar Pradesh       4809\n",
       "Maharashtra         3799\n",
       "Karnataka           3241\n",
       "Delhi               2744\n",
       "Madhya Pradesh      2259\n",
       "Andhra Pradesh      2054\n",
       "Himachal Pradesh    1568\n",
       "Kerala              1137\n",
       "Haryana             1106\n",
       "Gujarat             1067\n",
       "Bihar               1058\n",
       "Jharkhand            953\n",
       "Uttarakhand          824\n",
       "Rajasthan            555\n",
       "Punjab               495\n",
       "Telangana            312\n",
       "Name: Orders, dtype: int64"
      ]
     },
     "execution_count": 135,
     "metadata": {},
     "output_type": "execute_result"
    }
   ],
   "source": [
    "df.groupby('State')['Orders'].sum().sort_values(ascending=False)"
   ]
  },
  {
   "cell_type": "code",
   "execution_count": 137,
   "id": "9f7ffbc2-af08-40ec-bb87-1dcc84ef7897",
   "metadata": {},
   "outputs": [
    {
     "data": {
      "text/plain": [
       "State\n",
       "Uttar Pradesh       19362273.00\n",
       "Maharashtra         14412576.00\n",
       "Karnataka           13531649.00\n",
       "Delhi               11628146.45\n",
       "Madhya Pradesh       8117360.00\n",
       "Andhra Pradesh       8045255.99\n",
       "Himachal Pradesh     4963368.00\n",
       "Haryana              4217871.00\n",
       "Bihar                4014669.00\n",
       "Gujarat              3954377.00\n",
       "Kerala               3894491.99\n",
       "Jharkhand            3026456.00\n",
       "Uttarakhand          2520944.00\n",
       "Rajasthan            1909409.00\n",
       "Punjab               1525800.00\n",
       "Telangana            1151490.00\n",
       "Name: Amount, dtype: float64"
      ]
     },
     "execution_count": 137,
     "metadata": {},
     "output_type": "execute_result"
    }
   ],
   "source": [
    "df.groupby('State')['Amount'].sum().sort_values(ascending=False)"
   ]
  },
  {
   "cell_type": "markdown",
   "id": "e5e4884e-5bea-4fdb-999f-da5f7428ef96",
   "metadata": {},
   "source": [
    "#### insight by state"
   ]
  },
  {
   "cell_type": "markdown",
   "id": "d422febe-2073-4288-9637-f72a859fb367",
   "metadata": {},
   "source": [
    "#### Product Preference: Food and Clothing & Apparel are most purchased, especially in Uttar Pradesh, Maharashtra, Delhi, and Karnataka.\n",
    "#### Orders :Uttar Pradesh placed the maximum orders (4813), followed by Maharashtra (3811) and Karnataka (3241).\n",
    "#### Revenue: Uttar Pradesh generated the highest revenue (₹19.3M), followed by Maharashtra (₹14.4M) and Delhi (₹13.5M)."
   ]
  },
  {
   "cell_type": "markdown",
   "id": "9301cb41-cde7-4303-a161-7f226f29e53f",
   "metadata": {},
   "source": [
    "# customer name"
   ]
  },
  {
   "cell_type": "markdown",
   "id": "7c33d784-0ad1-4a4f-be48-3a7102fddaad",
   "metadata": {},
   "source": [
    "### Find out top 10 customer by Amount"
   ]
  },
  {
   "cell_type": "code",
   "execution_count": 143,
   "id": "17395b80-debc-4dcb-99d5-d7658b26302a",
   "metadata": {},
   "outputs": [
    {
     "name": "stdout",
     "output_type": "stream",
     "text": [
      "Top 10 Customers:\n",
      " Cust_name\n",
      "Vishakha     382782.0\n",
      "Sudevi       287142.0\n",
      "Vasudev      281034.0\n",
      "Neola        275234.0\n",
      "Alejandro    272517.0\n",
      "Aastha       266961.0\n",
      "Shreyshi     265603.0\n",
      "Hazel        242343.0\n",
      "Akshat       241349.0\n",
      "Gopal        239147.0\n",
      "Name: Amount, dtype: float64\n"
     ]
    }
   ],
   "source": [
    "# Top 10 Customers by Amount\n",
    "top_customers = df.groupby(\"Cust_name\")[\"Amount\"].sum().sort_values(ascending=False).head(10)\n",
    "print(\"Top 10 Customers:\\n\", top_customers)"
   ]
  },
  {
   "cell_type": "code",
   "execution_count": 145,
   "id": "1d91ceb5-d3db-4c0b-a2c0-d8486e5c1298",
   "metadata": {},
   "outputs": [
    {
     "data": {
      "image/png": "[encoded data removed]",
      "text/plain": [
       "<Figure size 1000x500 with 1 Axes>"
      ]
     },
     "metadata": {},
     "output_type": "display_data"
    }
   ],
   "source": [
    "top_customers.plot(kind=\"bar\", figsize=(10,5))\n",
    "plt.title(\"Top 10 Customers by Purchase Amount\")\n",
    "plt.show()"
   ]
  },
  {
   "cell_type": "markdown",
   "id": "b06c3d54-aca7-45e9-8599-3afd628220ca",
   "metadata": {},
   "source": [
    "# Multivariate Analysis"
   ]
  },
  {
   "cell_type": "code",
   "execution_count": 147,
   "id": "81c024f2-37c8-4325-ae6a-780fbf10d195",
   "metadata": {},
   "outputs": [
    {
     "data": {
      "text/html": [
       "<div>\n",
       "<style scoped>\n",
       "    .dataframe tbody tr th:only-of-type {\n",
       "        vertical-align: middle;\n",
       "    }\n",
       "\n",
       "    .dataframe tbody tr th {\n",
       "        vertical-align: top;\n",
       "    }\n",
       "\n",
       "    .dataframe thead th {\n",
       "        text-align: right;\n",
       "    }\n",
       "</style>\n",
       "<table border=\"1\" class=\"dataframe\">\n",
       "  <thead>\n",
       "    <tr style=\"text-align: right;\">\n",
       "      <th></th>\n",
       "      <th>User_ID</th>\n",
       "      <th>Cust_name</th>\n",
       "      <th>Product_ID</th>\n",
       "      <th>Gender</th>\n",
       "      <th>Age Group</th>\n",
       "      <th>Age</th>\n",
       "      <th>Marital_Status</th>\n",
       "      <th>State</th>\n",
       "      <th>Zone</th>\n",
       "      <th>Occupation</th>\n",
       "      <th>Product_Category</th>\n",
       "      <th>Orders</th>\n",
       "      <th>Amount</th>\n",
       "    </tr>\n",
       "  </thead>\n",
       "  <tbody>\n",
       "    <tr>\n",
       "      <th>0</th>\n",
       "      <td>1002903</td>\n",
       "      <td>Sanskriti</td>\n",
       "      <td>P00125942</td>\n",
       "      <td>F</td>\n",
       "      <td>26-35</td>\n",
       "      <td>28</td>\n",
       "      <td>0</td>\n",
       "      <td>Maharashtra</td>\n",
       "      <td>Western</td>\n",
       "      <td>Healthcare</td>\n",
       "      <td>Auto</td>\n",
       "      <td>1</td>\n",
       "      <td>23952.0</td>\n",
       "    </tr>\n",
       "    <tr>\n",
       "      <th>1</th>\n",
       "      <td>1000732</td>\n",
       "      <td>Kartik</td>\n",
       "      <td>P00110942</td>\n",
       "      <td>F</td>\n",
       "      <td>26-35</td>\n",
       "      <td>35</td>\n",
       "      <td>1</td>\n",
       "      <td>Andhra Pradesh</td>\n",
       "      <td>Southern</td>\n",
       "      <td>Govt</td>\n",
       "      <td>Auto</td>\n",
       "      <td>3</td>\n",
       "      <td>23934.0</td>\n",
       "    </tr>\n",
       "    <tr>\n",
       "      <th>2</th>\n",
       "      <td>1001990</td>\n",
       "      <td>Bindu</td>\n",
       "      <td>P00118542</td>\n",
       "      <td>F</td>\n",
       "      <td>26-35</td>\n",
       "      <td>35</td>\n",
       "      <td>1</td>\n",
       "      <td>Uttar Pradesh</td>\n",
       "      <td>Central</td>\n",
       "      <td>Automobile</td>\n",
       "      <td>Auto</td>\n",
       "      <td>3</td>\n",
       "      <td>23924.0</td>\n",
       "    </tr>\n",
       "    <tr>\n",
       "      <th>3</th>\n",
       "      <td>1001425</td>\n",
       "      <td>Sudevi</td>\n",
       "      <td>P00237842</td>\n",
       "      <td>M</td>\n",
       "      <td>0-17</td>\n",
       "      <td>16</td>\n",
       "      <td>0</td>\n",
       "      <td>Karnataka</td>\n",
       "      <td>Southern</td>\n",
       "      <td>Construction</td>\n",
       "      <td>Auto</td>\n",
       "      <td>2</td>\n",
       "      <td>23912.0</td>\n",
       "    </tr>\n",
       "    <tr>\n",
       "      <th>4</th>\n",
       "      <td>1000588</td>\n",
       "      <td>Joni</td>\n",
       "      <td>P00057942</td>\n",
       "      <td>M</td>\n",
       "      <td>26-35</td>\n",
       "      <td>28</td>\n",
       "      <td>1</td>\n",
       "      <td>Gujarat</td>\n",
       "      <td>Western</td>\n",
       "      <td>Food Processing</td>\n",
       "      <td>Auto</td>\n",
       "      <td>2</td>\n",
       "      <td>23877.0</td>\n",
       "    </tr>\n",
       "  </tbody>\n",
       "</table>\n",
       "</div>"
      ],
      "text/plain": [
       "   User_ID  Cust_name Product_ID Gender Age Group  Age  Marital_Status  \\\n",
       "0  1002903  Sanskriti  P00125942      F     26-35   28               0   \n",
       "1  1000732     Kartik  P00110942      F     26-35   35               1   \n",
       "2  1001990      Bindu  P00118542      F     26-35   35               1   \n",
       "3  1001425     Sudevi  P00237842      M      0-17   16               0   \n",
       "4  1000588       Joni  P00057942      M     26-35   28               1   \n",
       "\n",
       "            State      Zone       Occupation Product_Category  Orders   Amount  \n",
       "0     Maharashtra   Western       Healthcare             Auto       1  23952.0  \n",
       "1  Andhra Pradesh  Southern             Govt             Auto       3  23934.0  \n",
       "2   Uttar Pradesh   Central       Automobile             Auto       3  23924.0  \n",
       "3       Karnataka  Southern     Construction             Auto       2  23912.0  \n",
       "4         Gujarat   Western  Food Processing             Auto       2  23877.0  "
      ]
     },
     "execution_count": 147,
     "metadata": {},
     "output_type": "execute_result"
    }
   ],
   "source": [
    "df.head()"
   ]
  },
  {
   "cell_type": "code",
   "execution_count": null,
   "id": "43b8c9a6-3c1c-4435-b73c-648c1b9c959c",
   "metadata": {},
   "outputs": [],
   "source": []
  },
  {
   "cell_type": "markdown",
   "id": "cda18d47-ee01-419f-b6a6-b92b2862e7cb",
   "metadata": {},
   "source": [
    "### How do total Orders and Revenue vary across different Age Groups and Gender, and which segment contributes the most?"
   ]
  },
  {
   "cell_type": "code",
   "execution_count": 152,
   "id": "09f280f2-2603-4152-bad3-8ac53a80624c",
   "metadata": {},
   "outputs": [
    {
     "data": {
      "text/html": [
       "<div>\n",
       "<style scoped>\n",
       "    .dataframe tbody tr th:only-of-type {\n",
       "        vertical-align: middle;\n",
       "    }\n",
       "\n",
       "    .dataframe tbody tr th {\n",
       "        vertical-align: top;\n",
       "    }\n",
       "\n",
       "    .dataframe thead th {\n",
       "        text-align: right;\n",
       "    }\n",
       "</style>\n",
       "<table border=\"1\" class=\"dataframe\">\n",
       "  <thead>\n",
       "    <tr style=\"text-align: right;\">\n",
       "      <th></th>\n",
       "      <th></th>\n",
       "      <th>Orders</th>\n",
       "      <th>Amount</th>\n",
       "    </tr>\n",
       "    <tr>\n",
       "      <th>Age Group</th>\n",
       "      <th>Gender</th>\n",
       "      <th></th>\n",
       "      <th></th>\n",
       "    </tr>\n",
       "  </thead>\n",
       "  <tbody>\n",
       "    <tr>\n",
       "      <th>26-35</th>\n",
       "      <th>F</th>\n",
       "      <td>8210</td>\n",
       "      <td>30961857.94</td>\n",
       "    </tr>\n",
       "    <tr>\n",
       "      <th>36-45</th>\n",
       "      <th>F</th>\n",
       "      <td>3908</td>\n",
       "      <td>15524425.49</td>\n",
       "    </tr>\n",
       "    <tr>\n",
       "      <th>18-25</th>\n",
       "      <th>F</th>\n",
       "      <td>3261</td>\n",
       "      <td>11887003.00</td>\n",
       "    </tr>\n",
       "    <tr>\n",
       "      <th>26-35</th>\n",
       "      <th>M</th>\n",
       "      <td>3171</td>\n",
       "      <td>11636129.00</td>\n",
       "    </tr>\n",
       "    <tr>\n",
       "      <th>46-50</th>\n",
       "      <th>F</th>\n",
       "      <td>1682</td>\n",
       "      <td>6767720.00</td>\n",
       "    </tr>\n",
       "  </tbody>\n",
       "</table>\n",
       "</div>"
      ],
      "text/plain": [
       "                  Orders       Amount\n",
       "Age Group Gender                     \n",
       "26-35     F         8210  30961857.94\n",
       "36-45     F         3908  15524425.49\n",
       "18-25     F         3261  11887003.00\n",
       "26-35     M         3171  11636129.00\n",
       "46-50     F         1682   6767720.00"
      ]
     },
     "execution_count": 152,
     "metadata": {},
     "output_type": "execute_result"
    }
   ],
   "source": [
    "df.groupby([\"Age Group\", \"Gender\"])[[\"Orders\", \"Amount\"]].sum().sort_values(by=[\"Amount\", \"Orders\"], ascending=[False, False]).head()"
   ]
  },
  {
   "cell_type": "markdown",
   "id": "1319adb0-1d07-482f-a0ec-2993112b3bd1",
   "metadata": {},
   "source": [
    "#### Insight"
   ]
  },
  {
   "cell_type": "markdown",
   "id": "8bdb6af1-ab98-4486-b00b-18d492f7d1eb",
   "metadata": {},
   "source": [
    "#### The female customers aged 26–35 are the biggest drivers of sales, both in terms of order volume and revenue. Younger females (18–25) and middle-aged females (36–45) also contribute significantly\n"
   ]
  },
  {
   "cell_type": "markdown",
   "id": "a22240d9-83c4-4233-9203-15e3b02b0e6f",
   "metadata": {},
   "source": [
    "### How do total Orders and Revenue vary across different States and Zones, and which State–Zone combinations contribute the most?"
   ]
  },
  {
   "cell_type": "code",
   "execution_count": 157,
   "id": "61888965-e3ae-4281-9e6e-1026e79d4a1d",
   "metadata": {},
   "outputs": [
    {
     "data": {
      "text/html": [
       "<div>\n",
       "<style scoped>\n",
       "    .dataframe tbody tr th:only-of-type {\n",
       "        vertical-align: middle;\n",
       "    }\n",
       "\n",
       "    .dataframe tbody tr th {\n",
       "        vertical-align: top;\n",
       "    }\n",
       "\n",
       "    .dataframe thead th {\n",
       "        text-align: right;\n",
       "    }\n",
       "</style>\n",
       "<table border=\"1\" class=\"dataframe\">\n",
       "  <thead>\n",
       "    <tr style=\"text-align: right;\">\n",
       "      <th></th>\n",
       "      <th></th>\n",
       "      <th>Orders</th>\n",
       "      <th>Amount</th>\n",
       "    </tr>\n",
       "    <tr>\n",
       "      <th>State</th>\n",
       "      <th>Zone</th>\n",
       "      <th></th>\n",
       "      <th></th>\n",
       "    </tr>\n",
       "  </thead>\n",
       "  <tbody>\n",
       "    <tr>\n",
       "      <th>Uttar Pradesh</th>\n",
       "      <th>Central</th>\n",
       "      <td>4809</td>\n",
       "      <td>19362273.00</td>\n",
       "    </tr>\n",
       "    <tr>\n",
       "      <th>Maharashtra</th>\n",
       "      <th>Western</th>\n",
       "      <td>3799</td>\n",
       "      <td>14412576.00</td>\n",
       "    </tr>\n",
       "    <tr>\n",
       "      <th>Karnataka</th>\n",
       "      <th>Southern</th>\n",
       "      <td>3241</td>\n",
       "      <td>13531649.00</td>\n",
       "    </tr>\n",
       "    <tr>\n",
       "      <th>Delhi</th>\n",
       "      <th>Central</th>\n",
       "      <td>2744</td>\n",
       "      <td>11628146.45</td>\n",
       "    </tr>\n",
       "    <tr>\n",
       "      <th>Madhya Pradesh</th>\n",
       "      <th>Central</th>\n",
       "      <td>2259</td>\n",
       "      <td>8117360.00</td>\n",
       "    </tr>\n",
       "  </tbody>\n",
       "</table>\n",
       "</div>"
      ],
      "text/plain": [
       "                         Orders       Amount\n",
       "State          Zone                         \n",
       "Uttar Pradesh  Central     4809  19362273.00\n",
       "Maharashtra    Western     3799  14412576.00\n",
       "Karnataka      Southern    3241  13531649.00\n",
       "Delhi          Central     2744  11628146.45\n",
       "Madhya Pradesh Central     2259   8117360.00"
      ]
     },
     "execution_count": 157,
     "metadata": {},
     "output_type": "execute_result"
    }
   ],
   "source": [
    "df.groupby([\"State\", \"Zone\"])[[\"Orders\", \"Amount\"]].sum().sort_values(\n",
    "    by=[\"Amount\", \"Orders\"], ascending=[False, False]\n",
    ").head()\n"
   ]
  },
  {
   "cell_type": "markdown",
   "id": "9bfc58c9-6a4a-4623-818e-57b4013e50c7",
   "metadata": {},
   "source": [
    "#### Insight"
   ]
  },
  {
   "cell_type": "markdown",
   "id": "9f796672-5395-462d-a719-03defb25676d",
   "metadata": {},
   "source": [
    "#### Uttar Pradesh – Central Zone is the top-performing state–zone combination in both revenue and orders.\n",
    "#### Other high contributors include Maharashtra (Western) and Karnataka (Southern)."
   ]
  },
  {
   "cell_type": "markdown",
   "id": "1851c5c1-6dcb-4c53-b06f-f96ead201101",
   "metadata": {},
   "source": [
    "### How do Orders and Revenue vary across different Occupations and Gender, and which segment generates the highest sales"
   ]
  },
  {
   "cell_type": "code",
   "execution_count": 162,
   "id": "9ab37089-2a12-4f60-85c9-abf86592a6d2",
   "metadata": {},
   "outputs": [
    {
     "data": {
      "text/html": [
       "<div>\n",
       "<style scoped>\n",
       "    .dataframe tbody tr th:only-of-type {\n",
       "        vertical-align: middle;\n",
       "    }\n",
       "\n",
       "    .dataframe tbody tr th {\n",
       "        vertical-align: top;\n",
       "    }\n",
       "\n",
       "    .dataframe thead th {\n",
       "        text-align: right;\n",
       "    }\n",
       "</style>\n",
       "<table border=\"1\" class=\"dataframe\">\n",
       "  <thead>\n",
       "    <tr style=\"text-align: right;\">\n",
       "      <th></th>\n",
       "      <th></th>\n",
       "      <th>Orders</th>\n",
       "      <th>Amount</th>\n",
       "    </tr>\n",
       "    <tr>\n",
       "      <th>Occupation</th>\n",
       "      <th>Gender</th>\n",
       "      <th></th>\n",
       "      <th></th>\n",
       "    </tr>\n",
       "  </thead>\n",
       "  <tbody>\n",
       "    <tr>\n",
       "      <th>IT Sector</th>\n",
       "      <th>F</th>\n",
       "      <td>2701</td>\n",
       "      <td>10217271.00</td>\n",
       "    </tr>\n",
       "    <tr>\n",
       "      <th>Aviation</th>\n",
       "      <th>F</th>\n",
       "      <td>2299</td>\n",
       "      <td>9005089.00</td>\n",
       "    </tr>\n",
       "    <tr>\n",
       "      <th>Healthcare</th>\n",
       "      <th>F</th>\n",
       "      <td>2403</td>\n",
       "      <td>8968232.49</td>\n",
       "    </tr>\n",
       "    <tr>\n",
       "      <th>Banking</th>\n",
       "      <th>F</th>\n",
       "      <td>2034</td>\n",
       "      <td>7808513.95</td>\n",
       "    </tr>\n",
       "    <tr>\n",
       "      <th>Govt</th>\n",
       "      <th>F</th>\n",
       "      <td>1507</td>\n",
       "      <td>6002907.00</td>\n",
       "    </tr>\n",
       "  </tbody>\n",
       "</table>\n",
       "</div>"
      ],
      "text/plain": [
       "                   Orders       Amount\n",
       "Occupation Gender                     \n",
       "IT Sector  F         2701  10217271.00\n",
       "Aviation   F         2299   9005089.00\n",
       "Healthcare F         2403   8968232.49\n",
       "Banking    F         2034   7808513.95\n",
       "Govt       F         1507   6002907.00"
      ]
     },
     "execution_count": 162,
     "metadata": {},
     "output_type": "execute_result"
    }
   ],
   "source": [
    "df.groupby([\"Occupation\", \"Gender\"])[[\"Orders\", \"Amount\"]].sum().sort_values(\n",
    "    by=\"Amount\", ascending=False).head()\n"
   ]
  },
  {
   "cell_type": "markdown",
   "id": "6db33483-d956-4ffe-83d8-a7cb337e83b7",
   "metadata": {},
   "source": [
    "#### Insight"
   ]
  },
  {
   "cell_type": "markdown",
   "id": "f104fb76-5244-4e2c-a4af-8f91ab6e5b14",
   "metadata": {},
   "source": [
    "#### Female professionals in the IT Sector generate the highest sales, followed by those in Aviation and Healthcare. This indicates that working women in high-income and service-oriented professions are key buyers"
   ]
  },
  {
   "cell_type": "markdown",
   "id": "581e7acd-802a-495f-b9b2-6bfe4f1e5dce",
   "metadata": {},
   "source": [
    "### Which Product Categories generate the highest Revenue and Orders, and which category is the top performer overall"
   ]
  },
  {
   "cell_type": "code",
   "execution_count": 167,
   "id": "d76741b2-578d-4d9e-8af6-bf809a3cacf7",
   "metadata": {},
   "outputs": [
    {
     "data": {
      "text/html": [
       "<div>\n",
       "<style scoped>\n",
       "    .dataframe tbody tr th:only-of-type {\n",
       "        vertical-align: middle;\n",
       "    }\n",
       "\n",
       "    .dataframe tbody tr th {\n",
       "        vertical-align: top;\n",
       "    }\n",
       "\n",
       "    .dataframe thead th {\n",
       "        text-align: right;\n",
       "    }\n",
       "</style>\n",
       "<table border=\"1\" class=\"dataframe\">\n",
       "  <thead>\n",
       "    <tr style=\"text-align: right;\">\n",
       "      <th></th>\n",
       "      <th>Product_Category</th>\n",
       "      <th>Orders</th>\n",
       "      <th>Amount</th>\n",
       "    </tr>\n",
       "  </thead>\n",
       "  <tbody>\n",
       "    <tr>\n",
       "      <th>6</th>\n",
       "      <td>Food</td>\n",
       "      <td>6120</td>\n",
       "      <td>33958210.50</td>\n",
       "    </tr>\n",
       "    <tr>\n",
       "      <th>3</th>\n",
       "      <td>Clothing &amp; Apparel</td>\n",
       "      <td>6627</td>\n",
       "      <td>16484472.00</td>\n",
       "    </tr>\n",
       "    <tr>\n",
       "      <th>7</th>\n",
       "      <td>Footwear &amp; Shoes</td>\n",
       "      <td>2654</td>\n",
       "      <td>15615754.45</td>\n",
       "    </tr>\n",
       "    <tr>\n",
       "      <th>5</th>\n",
       "      <td>Electronics &amp; Gadgets</td>\n",
       "      <td>5208</td>\n",
       "      <td>15607657.00</td>\n",
       "    </tr>\n",
       "    <tr>\n",
       "      <th>8</th>\n",
       "      <td>Furniture</td>\n",
       "      <td>890</td>\n",
       "      <td>5448160.99</td>\n",
       "    </tr>\n",
       "  </tbody>\n",
       "</table>\n",
       "</div>"
      ],
      "text/plain": [
       "        Product_Category  Orders       Amount\n",
       "6                   Food    6120  33958210.50\n",
       "3     Clothing & Apparel    6627  16484472.00\n",
       "7       Footwear & Shoes    2654  15615754.45\n",
       "5  Electronics & Gadgets    5208  15607657.00\n",
       "8              Furniture     890   5448160.99"
      ]
     },
     "execution_count": 167,
     "metadata": {},
     "output_type": "execute_result"
    }
   ],
   "source": [
    "df.groupby(\"Product_Category\")[[\"Orders\", \"Amount\"]].sum().reset_index().sort_values(\n",
    "    by=\"Amount\", ascending=False).head()\n"
   ]
  },
  {
   "cell_type": "markdown",
   "id": "1b51ee47-beb1-4af0-b9b4-e51fed5ed643",
   "metadata": {},
   "source": [
    "#### Insight"
   ]
  },
  {
   "cell_type": "markdown",
   "id": "fd2545ba-f67c-4f94-8d49-a3b6756a02e1",
   "metadata": {},
   "source": [
    "#### Food is the highest revenue generator, while Clothing & Apparel leads in order volume.\n",
    "#### Footwear & Shoes and Electronics & Gadgets also perform strongly, showing balanced demand.\n",
    "#### Furniture has the least contribution among the top categories."
   ]
  },
  {
   "cell_type": "code",
   "execution_count": null,
   "id": "0cfc81a5-8a24-41d2-9108-0bbea86ca7d9",
   "metadata": {},
   "outputs": [],
   "source": []
  },
  {
   "cell_type": "code",
   "execution_count": null,
   "id": "1d867701-9f8e-4a39-b1b6-e2d435bedf3f",
   "metadata": {},
   "outputs": [],
   "source": []
  },
  {
   "cell_type": "code",
   "execution_count": null,
   "id": "1d8d037a-50ff-4129-b718-f566a9aab8a7",
   "metadata": {},
   "outputs": [],
   "source": []
  },
  {
   "cell_type": "code",
   "execution_count": null,
   "id": "670c6067-f1ab-44ea-bec1-e8038e01004c",
   "metadata": {},
   "outputs": [],
   "source": []
  },
  {
   "cell_type": "code",
   "execution_count": null,
   "id": "451abb3b-32be-4725-bd38-624c1cee14c4",
   "metadata": {},
   "outputs": [],
   "source": []
  },
  {
   "cell_type": "code",
   "execution_count": null,
   "id": "dd269d52-f809-4e0a-a16f-cf6998241028",
   "metadata": {},
   "outputs": [],
   "source": []
  },
  {
   "cell_type": "code",
   "execution_count": null,
   "id": "60be0096-b816-4a34-a7f9-08c195398ec6",
   "metadata": {},
   "outputs": [],
   "source": []
  }
 ],
 "metadata": {
  "kernelspec": {
   "display_name": "Python 3 (ipykernel)",
   "language": "python",
   "name": "python3"
  },
  "language_info": {
   "codemirror_mode": {
    "name": "ipython",
    "version": 3
   },
   "file_extension": ".py",
   "mimetype": "text/x-python",
   "name": "python",
   "nbconvert_exporter": "python",
   "pygments_lexer": "ipython3",
   "version": "3.12.4"
  }
 },
 "nbformat": 4,
 "nbformat_minor": 5
}
